{
 "cells": [
  {
   "cell_type": "code",
   "execution_count": 1,
   "metadata": {},
   "outputs": [
    {
     "name": "stdout",
     "output_type": "stream",
     "text": [
      "Hello, world!!\n",
      "Hello, world!!\n"
     ]
    }
   ],
   "source": [
    "#INTRO\n",
    "print('Hello, world!!')\n",
    "print(\"Hello, world!!\")"
   ]
  },
  {
   "cell_type": "markdown",
   "metadata": {},
   "source": [
    "Bisa menggukana \" atau ' dan tanpa tanda akhir untuk mengakhiri baris code"
   ]
  },
  {
   "cell_type": "code",
   "execution_count": 2,
   "metadata": {},
   "outputs": [
    {
     "name": "stdout",
     "output_type": "stream",
     "text": [
      "Lima lebih dari dua\n",
      "Tiga sama dengan tiga\n"
     ]
    },
    {
     "data": {
      "text/plain": [
       "'\\nif 2 < 5 :\\nprint(\"Dua kurang dari lima\")\\n'"
      ]
     },
     "execution_count": 2,
     "metadata": {},
     "output_type": "execute_result"
    }
   ],
   "source": [
    "#INDENT\n",
    "if 5 > 2 :\n",
    "    print(\"Lima lebih dari dua\")\n",
    "    if 3 == 3 :\n",
    "        print('Tiga sama dengan tiga')\n",
    "# if 2 < 5 :\n",
    "# print(\"Dua kurang dari lima\")\n",
    "\"\"\"\n",
    "if 2 < 5 :\n",
    "print(\"Dua kurang dari lima\")\n",
    "\"\"\"\n"
   ]
  },
  {
   "cell_type": "markdown",
   "metadata": {},
   "source": [
    "indentation is important, kalo ga make indent nanti py ga bisa baca blok kodenya. Komen pada python bisa make # atau \"\"\""
   ]
  },
  {
   "cell_type": "code",
   "execution_count": 3,
   "metadata": {},
   "outputs": [
    {
     "name": "stdout",
     "output_type": "stream",
     "text": [
      "10\n",
      "<class 'int'>\n",
      "4.5\n",
      "<class 'float'>\n",
      "aku\n",
      "<class 'str'>\n",
      "3.0\n",
      "<class 'float'>\n",
      "3.5\n",
      "<class 'float'>\n",
      "3\n",
      "<class 'int'>\n"
     ]
    }
   ],
   "source": [
    "# VARIABLE_1\n",
    "a = 10\n",
    "b = 4.5\n",
    "c = 'aku'  # Tipe data str bisa dibuat make single or double quotes\n",
    "print(a)\n",
    "print(type(a))\n",
    "print(b)\n",
    "print(type(b))\n",
    "print(c)\n",
    "print(type(c))\n",
    "# Tipe data juga bisa dicasting untuk memberikan spesifikasi tertentu\n",
    "a = float(3)\n",
    "b = 3.5\n",
    "c = int(b)\n",
    "print(a)\n",
    "print(type(a))\n",
    "print(b)\n",
    "print(type(b))\n",
    "print(c)\n",
    "print(type(c))\n"
   ]
  },
  {
   "cell_type": "markdown",
   "metadata": {},
   "source": [
    "Variabel pada python dibuat setelah mengisi nilai\n",
    "\n",
    "    A variable name must start with a letter or the underscore character\n",
    "    A variable name cannot start with a number\n",
    "    A variable name can only contain alpha-numeric characters and underscores (A-z, 0-9, and _ )\n",
    "    Variable names are case-sensitive (age, Age and AGE are three different variables)\n"
   ]
  },
  {
   "cell_type": "code",
   "execution_count": 10,
   "metadata": {},
   "outputs": [
    {
     "name": "stdout",
     "output_type": "stream",
     "text": [
      "1\n",
      "2.0\n",
      "aku\n",
      "aku\n",
      "aku\n",
      "aku\n",
      "1\n",
      "2.0\n",
      "aku\n"
     ]
    }
   ],
   "source": [
    "# VARIABLE_2_MultipleValue\n",
    "a, b, c = 1, 2.0, \"aku\"\n",
    "print(a)\n",
    "print(b)\n",
    "print(c)\n",
    "\n",
    "a = b = c = \"aku\"\n",
    "print(a)\n",
    "print(b)\n",
    "print(c)\n",
    "\n",
    "# Unpacking : memasukkan sebuah nilai dari tupple, list, atau lainnya kedalam variabel (harus diperhatikan jumlah nilainya misal ada 3 nilai maka variabelnya juga harus 3)\n",
    "tupple = [1, 2.0, \"aku\"]\n",
    "a, b, c = tupple\n",
    "print(a)\n",
    "print(b)\n",
    "print(c)\n"
   ]
  },
  {
   "cell_type": "code",
   "execution_count": 15,
   "metadata": {},
   "outputs": [
    {
     "name": "stdout",
     "output_type": "stream",
     "text": [
      "1 2.0\n",
      "3.0\n",
      "akukamu\n",
      "aku kamu\n",
      "aku 1\n"
     ]
    }
   ],
   "source": [
    "# VARIABLE_3_OutPut\n",
    "a, b, c, d = 1, 2.0, \"aku\", 'kamu'\n",
    "print(a, b)\n",
    "print(a+b)  # langsung dijumlahkan\n",
    "# print(a+c) # error karena beda tipe\n",
    "print(c+d)  # cetak tanpa spasi\n",
    "print(c, d)\n",
    "print(c, a)\n"
   ]
  },
  {
   "cell_type": "code",
   "execution_count": 22,
   "metadata": {},
   "outputs": [
    {
     "name": "stdout",
     "output_type": "stream",
     "text": [
      "aku baik\n",
      "akubaik\n",
      "kamu baik\n",
      "aku baik\n",
      "aku dan kamu baik\n"
     ]
    }
   ],
   "source": [
    "# VARIABLE_4_GlobalVariable\n",
    "\n",
    "a = \"aku\"  # global variable\n",
    "\n",
    "\n",
    "def func1():\n",
    "    print(a, \"baik\")  # langsung pakai spasi\n",
    "    print(a+\"baik\")  # tanpaspasi\n",
    "\n",
    "\n",
    "func1()\n",
    "\n",
    "\n",
    "def func2():\n",
    "    a = \"kamu\"\n",
    "    print(a, \"baik\")\n",
    "\n",
    "\n",
    "func2()\n",
    "\n",
    "# bisa juga didefinisikan didalem fungsi\n",
    "\n",
    "\n",
    "def func3():\n",
    "    global b\n",
    "    b = 'aku'\n",
    "    print(b, 'baik')\n",
    "\n",
    "\n",
    "func3()\n",
    "print(b, 'dan kamu baik')\n"
   ]
  }
 ],
 "metadata": {
  "kernelspec": {
   "display_name": "Python 3.9.13 64-bit (microsoft store)",
   "language": "python",
   "name": "python3"
  },
  "language_info": {
   "codemirror_mode": {
    "name": "ipython",
    "version": 3
   },
   "file_extension": ".py",
   "mimetype": "text/x-python",
   "name": "python",
   "nbconvert_exporter": "python",
   "pygments_lexer": "ipython3",
   "version": "3.9.13"
  },
  "orig_nbformat": 4,
  "vscode": {
   "interpreter": {
    "hash": "05108610d0486cbd94318b4e9322c34d020e3203e3eec4232981ef8e61be533b"
   }
  }
 },
 "nbformat": 4,
 "nbformat_minor": 2
}
