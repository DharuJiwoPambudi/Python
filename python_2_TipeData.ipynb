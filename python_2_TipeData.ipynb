{
 "cells": [
  {
   "cell_type": "code",
   "execution_count": 24,
   "metadata": {},
   "outputs": [
    {
     "name": "stdout",
     "output_type": "stream",
     "text": [
      "list\n",
      "<class 'list'>\n",
      "['aku', 1, 'kamu']\n",
      "1\n",
      "a= ['aku', 1, 'kamu', 3]\n",
      "tuple\n",
      "<class 'tuple'> <class 'tuple'>\n",
      "('aku', 1, 'kamu')\n",
      "2\n",
      "('aku', 1, 'kamu')\n",
      "range\n",
      "range(0, 5)\n",
      "set\n"
     ]
    },
    {
     "ename": "TypeError",
     "evalue": "'set' object is not subscriptable",
     "output_type": "error",
     "traceback": [
      "\u001b[1;31m---------------------------------------------------------------------------\u001b[0m",
      "\u001b[1;31mTypeError\u001b[0m                                 Traceback (most recent call last)",
      "\u001b[1;32m~\\AppData\\Local\\Temp/ipykernel_9340/862291667.py\u001b[0m in \u001b[0;36m<module>\u001b[1;34m\u001b[0m\n\u001b[0;32m     29\u001b[0m \u001b[0mprint\u001b[0m\u001b[1;33m(\u001b[0m\u001b[1;34m'set'\u001b[0m\u001b[1;33m)\u001b[0m \u001b[1;31m# memakai kurung kurawal {}\u001b[0m\u001b[1;33m\u001b[0m\u001b[1;33m\u001b[0m\u001b[0m\n\u001b[0;32m     30\u001b[0m \u001b[0ma\u001b[0m \u001b[1;33m=\u001b[0m \u001b[1;33m{\u001b[0m\u001b[1;36m1\u001b[0m\u001b[1;33m,\u001b[0m\u001b[1;34m'dua'\u001b[0m\u001b[1;33m,\u001b[0m \u001b[1;34m'tiga'\u001b[0m\u001b[1;33m}\u001b[0m\u001b[1;33m\u001b[0m\u001b[1;33m\u001b[0m\u001b[0m\n\u001b[1;32m---> 31\u001b[1;33m \u001b[0mprint\u001b[0m\u001b[1;33m(\u001b[0m\u001b[0ma\u001b[0m\u001b[1;33m[\u001b[0m\u001b[1;36m1\u001b[0m\u001b[1;33m]\u001b[0m\u001b[1;33m)\u001b[0m\u001b[1;33m\u001b[0m\u001b[1;33m\u001b[0m\u001b[0m\n\u001b[0m\u001b[0;32m     32\u001b[0m \u001b[0ma\u001b[0m\u001b[1;33m.\u001b[0m\u001b[0madd\u001b[0m\u001b[1;33m(\u001b[0m\u001b[1;36m6\u001b[0m\u001b[1;33m)\u001b[0m\u001b[1;33m\u001b[0m\u001b[1;33m\u001b[0m\u001b[0m\n\u001b[0;32m     33\u001b[0m \u001b[0mprint\u001b[0m\u001b[1;33m(\u001b[0m\u001b[0ma\u001b[0m\u001b[1;33m)\u001b[0m\u001b[1;33m\u001b[0m\u001b[1;33m\u001b[0m\u001b[0m\n",
      "\u001b[1;31mTypeError\u001b[0m: 'set' object is not subscriptable"
     ]
    }
   ],
   "source": [
    "# TIPEDATA\n",
    "# list, tuple, range, set\n",
    "\n",
    "# list\n",
    "print(\"list\")\n",
    "a = ['aku', 1, 'kamu']  # memakai kurung siku untuk membuat list\n",
    "print(type(a))\n",
    "print(a)\n",
    "print(a[1])\n",
    "a.append(3)\n",
    "print(f'a= {a}') #cara lain ngeprint\n",
    "\n",
    "\n",
    "# tuple\n",
    "print(\"tuple\") # memakai () atau boleh tanpa tanda kurung\n",
    "a = ('aku', 1, 'kamu')\n",
    "b = 'aku', 2, 'kamu'\n",
    "print(type(a), type(b))\n",
    "print(a)\n",
    "print(b[1])\n",
    "print(a)\n",
    "\n",
    "# range\n",
    "print('range')\n",
    "a = range(5)\n",
    "print(a)\n",
    "\n",
    "# set\n",
    "print('set') # memakai kurung kurawal {}\n",
    "a = {1,'dua', 'tiga'}\n",
    "print(a)\n",
    "a.add(6)\n",
    "print(a)"
   ]
  },
  {
   "cell_type": "markdown",
   "metadata": {},
   "source": [
    "Text Type: \tstr\n",
    "Numeric Types: \tint, float, complex\n",
    "Sequence Types: \tlist, tuple, range\n",
    "Mapping Type: \tdict\n",
    "Set Types: \tset, frozenset\n",
    "Boolean Type: \tbool\n",
    "Binary Types: \tbytes, bytearray, memoryview\n",
    "None Type: \tNoneType"
   ]
  }
 ],
 "metadata": {
  "kernelspec": {
   "display_name": "Python 3.9.13 64-bit (microsoft store)",
   "language": "python",
   "name": "python3"
  },
  "language_info": {
   "codemirror_mode": {
    "name": "ipython",
    "version": 3
   },
   "file_extension": ".py",
   "mimetype": "text/x-python",
   "name": "python",
   "nbconvert_exporter": "python",
   "pygments_lexer": "ipython3",
   "version": "3.9.13"
  },
  "orig_nbformat": 4,
  "vscode": {
   "interpreter": {
    "hash": "05108610d0486cbd94318b4e9322c34d020e3203e3eec4232981ef8e61be533b"
   }
  }
 },
 "nbformat": 4,
 "nbformat_minor": 2
}
