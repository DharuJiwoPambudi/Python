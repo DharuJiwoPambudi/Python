{
 "cells": [
  {
   "cell_type": "code",
   "execution_count": 3,
   "metadata": {},
   "outputs": [
    {
     "name": "stdout",
     "output_type": "stream",
     "text": [
      "('aku kamu\\naku kamu\\naku kamu,\\naku kamu.', 'aku kamu\\naku kamu,\\naku kamu,\\naku kamu.')\n"
     ]
    }
   ],
   "source": [
    "# Multipleline string, make \"\"\" atau '''\n",
    "a = \"\"\"aku kamu\n",
    "aku kamu\n",
    "aku kamu,\n",
    "aku kamu.\"\"\"\n",
    "b = '''aku kamu\n",
    "aku kamu,\n",
    "aku kamu,\n",
    "aku kamu.'''\n",
    "print(f'{a, b}')\n"
   ]
  },
  {
   "cell_type": "code",
   "execution_count": 9,
   "metadata": {},
   "outputs": [
    {
     "name": "stdout",
     "output_type": "stream",
     "text": [
      "e\n",
      "H 1\n",
      "e 2\n",
      "l 3\n",
      "l 4\n",
      "o 5\n",
      "5\n"
     ]
    }
   ],
   "source": [
    "# String adalah array\n",
    "a = \"Hello\"\n",
    "print(a[1])\n",
    "\n",
    "# karena string merupakan array sehingga bisa dilakukan perulangan dalam mencetak\n",
    "b = 0\n",
    "for x in (a):\n",
    "    b = b+1\n",
    "    print(x, b)\n",
    "\n",
    "print(len(a)) # mengetahui panang string a\n"
   ]
  },
  {
   "cell_type": "code",
   "execution_count": 13,
   "metadata": {},
   "outputs": [
    {
     "name": "stdout",
     "output_type": "stream",
     "text": [
      "False\n",
      "True\n",
      "False\n"
     ]
    }
   ],
   "source": [
    "# Mengecek suatu karakter dalam string menggunakan in\n",
    "a = \"aku dan kamu melakukan code python\"\n",
    "if (\"aqu\" in a):\n",
    "    print(True)  # bisa dicek make if else\n",
    "else:\n",
    "    print(\"False\")\n",
    "\n",
    "\n",
    "print(\"kamu\" in a)  # bisa dicek langsung\n",
    "print(\"aqu\" in a)\n"
   ]
  }
 ],
 "metadata": {
  "kernelspec": {
   "display_name": "Python 3.9.13 64-bit (microsoft store)",
   "language": "python",
   "name": "python3"
  },
  "language_info": {
   "codemirror_mode": {
    "name": "ipython",
    "version": 3
   },
   "file_extension": ".py",
   "mimetype": "text/x-python",
   "name": "python",
   "nbconvert_exporter": "python",
   "pygments_lexer": "ipython3",
   "version": "3.9.13"
  },
  "orig_nbformat": 4,
  "vscode": {
   "interpreter": {
    "hash": "05108610d0486cbd94318b4e9322c34d020e3203e3eec4232981ef8e61be533b"
   }
  }
 },
 "nbformat": 4,
 "nbformat_minor": 2
}
